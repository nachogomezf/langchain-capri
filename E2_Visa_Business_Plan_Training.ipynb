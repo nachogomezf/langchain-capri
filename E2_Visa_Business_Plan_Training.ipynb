{
 "cells": [
  {
   "cell_type": "markdown",
   "metadata": {},
   "source": [
    "# E-2 Visa Business Plan Generator Training\n",
    "\n",
    "This notebook will help you train the model using your business plan templates. Follow these steps:\n",
    "\n",
    "1. Upload your DOCX files\n",
    "2. Preprocess the data\n",
    "3. Train the model\n",
    "4. Test the results"
   ]
  },
  {
   "cell_type": "code",
   "execution_count": null,
   "metadata": {},
   "source": [
    "# Install required dependencies\n",
    "!pip install -q transformers==4.30.0 torch==2.0.1 peft==0.4.0 datasets==2.12.0\n",
    "!pip install -q accelerate==0.20.0 bitsandbytes==0.41.0 sentencepiece==0.1.99\n",
    "!pip install -q python-docx==0.8.11"
   ]
  },
  {
   "cell_type": "code",
   "execution_count": null,
   "metadata": {},
   "source": [
    "# Create directories\n",
    "!mkdir -p templates/docx_files data model/fine_tuned_model"
   ]
  },
  {
   "cell_type": "code",
   "execution_count": null,
   "metadata": {},
   "source": [
    "# Mount Google Drive to access your files\n",
    "from google.colab import drive\n",
    "drive.mount('/content/drive')"
   ]
  },
  {
   "cell_type": "markdown",
   "metadata": {},
   "source": [
    "## Step 1: Upload Your Business Plan Templates\n",
    "Upload your DOCX files to the `templates/docx_files` directory"
   ]
  },
  {
   "cell_type": "code",
   "execution_count": null,
   "metadata": {},
   "source": [
    "from google.colab import files\n",
    "uploaded = files.upload()\n",
    "\n",
    "# Move uploaded files to templates directory\n",
    "import os\n",
    "for filename in uploaded.keys():\n",
    "    if filename.endswith('.docx'):\n",
    "        !mv \"{filename}\" \"templates/docx_files/{filename}\""
   ]
  },
  {
   "cell_type": "markdown",
   "metadata": {},
   "source": [
    "## Step 2: Preprocess Business Plan Templates"
   ]
  },
  {
   "cell_type": "code",
   "execution_count": null,
   "metadata": {},
   "source": [
    "# Copy the process_templates.py content here\n",
    "%%writefile process_templates.py\n",
    "\n",
    "import os\n",
    "import json\n",
    "from docx import Document\n",
    "import re\n",
    "\n",
    "def extract_sections_from_docx(doc_path):\n",
    "    \"\"\"Extract structured sections from a business plan DOCX file\"\"\"\n",
    "    doc = Document(doc_path)\n",
    "    current_section = None\n",
    "    sections = {}\n",
    "    content = []\n",
    "    \n",
    "    for paragraph in doc.paragraphs:\n",
    "        text = paragraph.text.strip()\n",
    "        if not text:\n",
    "            continue\n",
    "            \n",
    "        # Check if this is a section header (all caps or numbered)\n",
    "        if text.isupper() or re.match(r'^\\d+\\.[\\.\\d]*\\s+[A-Z]', text):\n",
    "            current_section = text\n",
    "            sections[current_section] = []\n",
    "        elif current_section:\n",
    "            sections[current_section].append(text)\n",
    "        \n",
    "        content.append(text)\n",
    "    \n",
    "    return sections, \"\\n\".join(content)\n",
    "\n",
    "def process_business_plan(doc_path):\n",
    "    \"\"\"Process a business plan document and extract structured information\"\"\"\n",
    "    sections, full_text = extract_sections_from_docx(doc_path)\n",
    "    \n",
    "    # Try to extract key information\n",
    "    investment_match = re.search(r'\\$(\\d+(?:,\\d{3})*(?:\\.\\d{2})?[Kk]?)', full_text)\n",
    "    investment = investment_match.group(0) if investment_match else \"$500K\"\n",
    "    \n",
    "    # Try to find business type from filename or content\n",
    "    filename = os.path.basename(doc_path)\n",
    "    business_type = filename.split('-')[-1].split('.')[0].strip()\n",
    "    \n",
    "    # Format the training example with sections\n",
    "    formatted_text = \"\"\n",
    "    for section, paragraphs in sections.items():\n",
    "        formatted_text += f\"{section}\\n\"\n",
    "        formatted_text += \"\\n\".join(paragraphs) + \"\\n\\n\"\n",
    "    \n",
    "    return {\n",
    "        \"input\": f\"Generate a business plan for a {investment} {business_type} E-2 Visa startup\",\n",
    "        \"output\": formatted_text\n",
    "    }\n",
    "\n",
    "def process_docx_files(docx_dir=\"templates/docx_files\", output_file=\"data/training_data.json\"):\n",
    "    \"\"\"Process all DOCX files and convert them to training data\"\"\"\n",
    "    training_data = []\n",
    "    \n",
    "    for file in os.listdir(docx_dir):\n",
    "        if file.endswith('.docx') and 'Questionnaire' not in file:\n",
    "            doc_path = os.path.join(docx_dir, file)\n",
    "            try:\n",
    "                example = process_business_plan(doc_path)\n",
    "                training_data.append(example)\n",
    "                print(f\"Processed: {file}\")\n",
    "            except Exception as e:\n",
    "                print(f\"Error processing {file}: {str(e)}\")\n",
    "    \n",
    "    # Save training data\n",
    "    with open(output_file, 'w', encoding='utf-8') as f:\n",
    "        json.dump(training_data, f, indent=2, ensure_ascii=False)\n",
    "    \n",
    "    print(f\"\\nProcessed {len(training_data)} business plans\")\n",
    "    return training_data\n",
    "\n",
    "if __name__ == \"__main__\":\n",
    "    process_docx_files()"
   ]
  },
  {
   "cell_type": "code",
   "execution_count": null,
   "metadata": {},
   "source": [
    "# Run preprocessing\n",
    "!python process_templates.py"
   ]
  },
  {
   "cell_type": "markdown",
   "metadata": {},
   "source": [
    "## Step 3: Train the Model"
   ]
  },
  {
   "cell_type": "code",
   "execution_count": null,
   "metadata": {},
   "source": [
    "# Copy the fine_tune.py content and run training\n",
    "!python src/fine_tune.py"
   ]
  },
  {
   "cell_type": "markdown",
   "metadata": {},
   "source": [
    "## Step 4: Test the Model"
   ]
  },
  {
   "cell_type": "code",
   "execution_count": null,
   "metadata": {},
   "source": [
    "from transformers import pipeline\n",
    "\n",
    "def test_model(prompt):\n",
    "    model_path = \"model/fine_tuned_model\"\n",
    "    generator = pipeline(\"text-generation\", model=model_path)\n",
    "    return generator(prompt, max_length=2000)\n",
    "\n",
    "# Test with a sample prompt\n",
    "test_prompt = \"Generate a business plan for a $500K restaurant E-2 Visa startup\"\n",
    "response = test_model(test_prompt)\n",
    "print(response)"
   ]
  },
  {
   "cell_type": "markdown",
   "metadata": {},
   "source": [
    "## Step 5: Save the Model\n",
    "\n",
    "After training is complete, you can download the model or save it to your Google Drive"
   ]
  },
  {
   "cell_type": "code",
   "execution_count": null,
   "metadata": {},
   "source": [
    "# Copy model to Google Drive\n",
    "!cp -r model/fine_tuned_model \"/content/drive/My Drive/fine_tuned_model\""
   ]
  }
 ],
 "metadata": {
  "accelerator": "GPU",
  "colab": {
   "gpuType": "T4",
   "provenance": []
  },
  "kernelspec": {
   "display_name": "Python 3",
   "name": "python3"
  },
  "language_info": {
   "name": "python"
  }
 },
 "nbformat": 4,
 "nbformat_minor": 0
}